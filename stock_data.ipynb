{
 "cells": [
  {
   "cell_type": "code",
   "execution_count": 50,
   "metadata": {},
   "outputs": [],
   "source": [
    "# Imports\n",
    "from credentials import password, email\n",
    "from data import stock_list_one\n",
    "from selenium import webdriver\n",
    "from selenium.webdriver.common.keys import Keys\n",
    "from selenium.webdriver.common.action_chains import ActionChains\n",
    "from bs4 import BeautifulSoup\n",
    "import datetime, re, requests, io, time, random, string"
   ]
  },
  {
   "cell_type": "code",
   "execution_count": 54,
   "metadata": {},
   "outputs": [],
   "source": [
    "driver = webdriver.Chrome('/Users/Simone/Coding/chromedriver')\n",
    "time.sleep(3)"
   ]
  },
  {
   "cell_type": "code",
   "execution_count": 55,
   "metadata": {},
   "outputs": [],
   "source": [
    "def sign_in(email=email, password=password):\n",
    "   driver.get('https://wallmine.com')\n",
    "   time.sleep(2)\n",
    "   driver.find_element_by_xpath('/html/body/main/header/div/ul/li[1]/ul/li[3]/a').click() # click sign in\n",
    "   time.sleep(1)\n",
    "   driver.find_element_by_xpath('//*[@id=\"new_user\"]/div[5]/div[1]/div[2]/a').click() #sign in with password\n",
    "   # log in\n",
    "   # verify on sign in page: \n",
    "   if \"We're glad you're back!\" in driver.page_source: \n",
    "       driver.find_element_by_xpath('//*[@id=\"user_email\"]').send_keys(email)\n",
    "       driver.find_element_by_xpath('//*[@id=\"user_password\"]').send_keys(password)\n",
    "       time.sleep(0.2)\n",
    "       driver.find_element_by_xpath('//*[@id=\"new_user\"]/div[5]/div[2]/div[1]/button').click()\n",
    "       time.sleep(3)\n",
    "       if 'US Markets' in driver.page_source: print('successfully signed in')\n",
    "   else: \n",
    "        print('wrong page, start over')\n",
    "        sign_in()"
   ]
  },
  {
   "cell_type": "code",
   "execution_count": 56,
   "metadata": {},
   "outputs": [
    {
     "output_type": "stream",
     "name": "stdout",
     "text": [
      "successfully signed in\n"
     ]
    }
   ],
   "source": [
    "sign_in(email, password)"
   ]
  },
  {
   "cell_type": "code",
   "execution_count": 64,
   "metadata": {},
   "outputs": [
    {
     "output_type": "stream",
     "name": "stdout",
     "text": [
      "[{'stock_ticker': 'BRK', 'exchange': 'NYSE'}, {'stock_ticker': 'BRK', 'exchange': 'NYSE'}]\n"
     ]
    }
   ],
   "source": [
    "broken_links = []\n",
    "for stock in stock_list_one:\n",
    "    driver.get(f\"https://wallmine.com/{stock.get('exchange')}/{stock.get('stock_ticker')}\")\n",
    "    if \"Sorry, we couldn't find the page you requested\" in driver.page_source: broken_links.append(stock)\n",
    "    time.sleep(1)\n",
    "print(broken_links)"
   ]
  },
  {
   "cell_type": "code",
   "execution_count": 75,
   "metadata": {},
   "outputs": [
    {
     "output_type": "stream",
     "name": "stdout",
     "text": [
      "{'company_name': 'Qualcomm, Inc.', 'current_price': '$163.77', 'percentage': '+4.25%', 'amount_changed': '+6.68', 'market_cap': 172300000000.0, 'enterprise_value': 170540000000.0, 'income': 5198000000.0, 'revenue': 23532000000.0, 'ebitda': 7599000000.0, 'volume': '0.000 / 5.717M', 'relative_volume': '0.00 ×'}\n"
     ]
    }
   ],
   "source": [
    "criteria = {\n",
    "    \"company_name\" : '/html/body/main/section/div[2]/div/div[1]/h1/div[2]/a',\n",
    "    'current_price' : '/html/body/main/section/div[3]/div/div/div/div/div[2]/div/div[1]/span[1]',\n",
    "    'percentage' : '/html/body/main/section/div[3]/div/div/div/div/div[2]/div/div[2]/div',\n",
    "    'amount_changed' : '/html/body/main/section/div[3]/div/div/div/div/div[2]/div/div[1]/span[2]',\n",
    "    'market_cap' : '/html/body/main/section/div[4]/div[1]/div[2]/div[1]/div[1]/table/tbody/tr[1]/td/span',\n",
    "    'enterprise_value' : '/html/body/main/section/div[4]/div[1]/div[2]/div[1]/div[1]/table/tbody/tr[2]/td/span',\n",
    "    'income' : '/html/body/main/section/div[4]/div[1]/div[2]/div[1]/div[2]/table/tbody/tr[3]/td/span', \n",
    "    'revenue' : '/html/body/main/section/div[4]/div[1]/div[2]/div[1]/div[2]/table/tbody/tr[1]/td/span', \n",
    "    'ebitda' : '/html/body/main/section/div[4]/div[1]/div[2]/div[1]/div[2]/table/tbody/tr[2]/td/span',\n",
    "    'volume' : '/html/body/main/section/div[4]/div[1]/div[2]/div[2]/div[1]/table/tbody/tr[1]/td',\n",
    "    'relative_volume' : '/html/body/main/section/div[4]/div[1]/div[2]/div[2]/div[1]/table/tbody/tr[2]/td/span'\n",
    "    }\n",
    "company_data = {}\n",
    "for attribute in criteria:\n",
    "    company_data[attribute] = driver.find_element_by_xpath(criteria[attribute]).text\n",
    "    # get percentage up or down\n",
    "    if attribute == 'percentage': \n",
    "        if driver.find_element_by_xpath(criteria['percentage']).get_attribute('class') == 'badge badge-danger': company_data['percentage'] = '-' + company_data['percentage']\n",
    "        else: company_data['percentage'] = '+' + company_data['percentage']\n",
    "    if attribute in ['market_cap', 'income', 'revenue', 'ebitda', 'enterprise_value']:\n",
    "        if company_data[attribute][-1] == 'B': \n",
    "            company_data[attribute] = float(company_data[attribute][1:-1]) * 1000000000\n",
    "        elif company_data[attribute][-1] == 'M': \n",
    "            company_data[attribute] = float(company_data[attribute][1:-1]) * 1000000\n",
    "\n",
    "\n",
    "print(company_data)\n"
   ]
  },
  {
   "cell_type": "code",
   "execution_count": null,
   "metadata": {},
   "outputs": [],
   "source": [
    "def get_data(stock_array):\n",
    "    "
   ]
  }
 ],
 "metadata": {
  "kernelspec": {
   "display_name": "Python 3",
   "language": "python",
   "name": "python3"
  },
  "language_info": {
   "codemirror_mode": {
    "name": "ipython",
    "version": 3
   },
   "file_extension": ".py",
   "mimetype": "text/x-python",
   "name": "python",
   "nbconvert_exporter": "python",
   "pygments_lexer": "ipython3",
   "version": "3.9.1-final"
  }
 },
 "nbformat": 4,
 "nbformat_minor": 4
}