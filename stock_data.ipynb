{
 "cells": [
  {
   "cell_type": "code",
   "execution_count": 84,
   "metadata": {},
   "outputs": [],
   "source": [
    "# Imports\n",
    "from credentials import password, email\n",
    "from data import stock_list_one\n",
    "from selenium import webdriver\n",
    "from selenium.webdriver.common.keys import Keys\n",
    "from selenium.webdriver.common.action_chains import ActionChains\n",
    "from bs4 import BeautifulSoup\n",
    "import datetime, re, requests, io, time, random, string"
   ]
  },
  {
   "cell_type": "code",
   "execution_count": 85,
   "metadata": {},
   "outputs": [],
   "source": [
    "driver = webdriver.Chrome('/Users/Simone/Coding/chromedriver')\n",
    "time.sleep(3)"
   ]
  },
  {
   "cell_type": "code",
   "execution_count": 86,
   "metadata": {},
   "outputs": [],
   "source": [
    "def sign_in(email=email, password=password):\n",
    "   driver.get('https://wallmine.com')\n",
    "   time.sleep(2)\n",
    "   driver.find_element_by_xpath('/html/body/main/header/div/ul/li[1]/ul/li[3]/a').click() # click sign in\n",
    "   time.sleep(1)\n",
    "   driver.find_element_by_xpath('//*[@id=\"new_user\"]/div[5]/div[1]/div[2]/a').click() #sign in with password\n",
    "   # log in\n",
    "   # verify on sign in page: \n",
    "   if \"We're glad you're back!\" in driver.page_source: \n",
    "       driver.find_element_by_xpath('//*[@id=\"user_email\"]').send_keys(email)\n",
    "       driver.find_element_by_xpath('//*[@id=\"user_password\"]').send_keys(password)\n",
    "       time.sleep(0.2)\n",
    "       driver.find_element_by_xpath('//*[@id=\"new_user\"]/div[5]/div[2]/div[1]/button').click()\n",
    "       time.sleep(3)\n",
    "       if 'US Markets' in driver.page_source: print('successfully signed in')\n",
    "   else: \n",
    "        print('wrong page, start over')\n",
    "        sign_in()"
   ]
  },
  {
   "cell_type": "code",
   "execution_count": 87,
   "metadata": {},
   "outputs": [
    {
     "output_type": "stream",
     "name": "stdout",
     "text": [
      "successfully signed in\n"
     ]
    }
   ],
   "source": [
    "sign_in(email, password)"
   ]
  },
  {
   "cell_type": "code",
   "execution_count": 96,
   "metadata": {},
   "outputs": [],
   "source": [
    "data_to_store = {\n",
    "    \"company_name\" : '/html/body/main/section/div[2]/div/div[1]/h1/div[2]/a',\n",
    "    'current_price' : '/html/body/main/section/div[3]/div/div/div/div/div[2]/div/div[1]/span[1]',\n",
    "    'percentage' : '/html/body/main/section/div[3]/div/div/div/div/div[2]/div/div[2]/div',\n",
    "    'amount_changed' : '/html/body/main/section/div[3]/div/div/div/div/div[2]/div/div[1]/span[2]',\n",
    "    'market_cap' : '/html/body/main/section/div[4]/div[1]/div[2]/div[1]/div[1]/table/tbody/tr[1]/td',\n",
    "    'enterprise_value' : ' /html/body/main/section/div[4]/div[1]/div[2]/div[1]/div[1]/table/tbody/tr[2]/td',\n",
    "    'income' : '/html/body/main/section/div[4]/div[1]/div[2]/div[1]/div[2]/table/tbody/tr[3]/td', \n",
    "    'revenue' : '/html/body/main/section/div[4]/div[1]/div[2]/div[1]/div[2]/table/tbody/tr[1]/td', \n",
    "    'ebitda' : '/html/body/main/section/div[4]/div[1]/div[2]/div[1]/div[2]/table/tbody/tr[2]/td',\n",
    "    'volume' : '/html/body/main/section/div[4]/div[1]/div[2]/div[2]/div[1]/table/tbody/tr[1]/td',\n",
    "    'relative_volume' : '/html/body/main/section/div[4]/div[1]/div[2]/div[2]/div[1]/table/tbody/tr[2]/td'\n",
    "    }\n"
   ]
  },
  {
   "cell_type": "code",
   "execution_count": 91,
   "metadata": {},
   "outputs": [],
   "source": [
    "def get_data(stock_array, criteria):\n",
    "    # stock array is array of dicts with keys 'exchange' and 'stock_ticker'\n",
    "    # criteria is dict of data you with to store with values of xpaths\n",
    "    for stock in stock_array:\n",
    "        driver.get(f\"https://wallmine.com/{stock.get('exchange')}/{stock.get('stock_ticker')}\")\n",
    "        time.sleep(2)\n",
    "        company_data = {}\n",
    "        for attribute in criteria:\n",
    "            company_data[attribute] = driver.find_element_by_xpath(criteria[attribute]).text\n",
    "            # get percentage up or down\n",
    "            if attribute == 'percentage': \n",
    "                if driver.find_element_by_xpath(criteria['percentage']).get_attribute('class') == 'badge badge-danger': company_data['percentage'] = '-' + company_data['percentage']\n",
    "                else: company_data['percentage'] = '+' + company_data['percentage']\n",
    "            if attribute in ['market_cap', 'income', 'revenue', 'ebitda', 'enterprise_value']:\n",
    "                if company_data[attribute][-1] == 'B': \n",
    "                    company_data[attribute] = float(company_data[attribute][1:-1]) * 1000000000\n",
    "                elif company_data[attribute][-1] == 'M': \n",
    "                    company_data[attribute] = float(company_data[attribute][1:-1]) * 1000000\n",
    "                elif company_data[attribute][-1] == 'T':\n",
    "                    company_data[attribute] = float(company_data[attribute][1:-1]) * 1000000000000\n",
    "        print(company_data)\n"
   ]
  },
  {
   "cell_type": "code",
   "execution_count": 99,
   "metadata": {},
   "outputs": [
    {
     "output_type": "stream",
     "name": "stdout",
     "text": [
      "{'company_name': 'Apple Inc', 'current_price': '$127.83', 'percentage': '+0.54%', 'amount_changed': '+0.69', 'market_cap': 1970000000000.0, 'enterprise_value': 2200000000000.0, 'income': 57411000000.0, 'revenue': 274515000000.0, 'ebitda': 77344000000.0, 'volume': '85.222M / 99.692M', 'relative_volume': '0.85 ×'}\n",
      "{'company_name': 'Microsoft Corporation', 'current_price': '$216.44', 'percentage': '+1.78%', 'amount_changed': '+3.79', 'market_cap': 1610000000000.0, 'enterprise_value': 1610000000000.0, 'income': 47496000000.0, 'revenue': 147114000000.0, 'ebitda': 55823000000.0, 'volume': '25.207M / 24.952M', 'relative_volume': '1.01 ×'}\n",
      "{'company_name': 'Amazon.com Inc.', 'current_price': '$3,135.00', 'percentage': '+0.99%', 'amount_changed': '+30.75', 'market_cap': 1510000000000.0, 'enterprise_value': 1590000000000.0, 'income': 17377000000.0, 'revenue': 347945000000.0, 'ebitda': 31875000000.0, 'volume': '3.017M / 3.671M', 'relative_volume': '0.82 ×'}\n",
      "{'company_name': 'Alphabet Inc', 'current_price': '$1,790.86', 'percentage': '+3.15%', 'amount_changed': '+54.67', 'market_cap': 1240000000000.0, 'enterprise_value': 'N/A', 'income': 35713000000.0, 'revenue': 171704000000.0, 'ebitda': 'N/A', 'volume': '1.584M / 1.378M', 'relative_volume': '1.15 ×'}\n",
      "{'company_name': 'Alphabet Inc', 'current_price': '$1,784.47', 'percentage': '+3.29%', 'amount_changed': '+56.85', 'market_cap': 1190000000000.0, 'enterprise_value': 1060000000000.0, 'income': 35713000000.0, 'revenue': 171704000000.0, 'ebitda': 48192000000.0, 'volume': '1.920M / 1.027M', 'relative_volume': '1.87 ×'}\n"
     ]
    }
   ],
   "source": [
    "get_data(stock_list_one[:5], data_to_store)"
   ]
  },
  {
   "cell_type": "code",
   "execution_count": null,
   "metadata": {},
   "outputs": [],
   "source": [
    "from pymongo import MongoClient\n",
    "\n",
    "client = MongoClient()\n",
    "db = client['stock_data']\n",
    "collection = db['current_data']\n",
    "\n",
    "db.current_data.insert(stock_object)\n",
    "db.current_data.findOne()"
   ]
  }
 ],
 "metadata": {
  "kernelspec": {
   "display_name": "Python 3",
   "language": "python",
   "name": "python3"
  },
  "language_info": {
   "codemirror_mode": {
    "name": "ipython",
    "version": 3
   },
   "file_extension": ".py",
   "mimetype": "text/x-python",
   "name": "python",
   "nbconvert_exporter": "python",
   "pygments_lexer": "ipython3",
   "version": "3.9.1-final"
  }
 },
 "nbformat": 4,
 "nbformat_minor": 4
}